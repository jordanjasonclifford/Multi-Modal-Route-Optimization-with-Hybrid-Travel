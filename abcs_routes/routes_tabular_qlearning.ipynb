{
  "nbformat": 4,
  "nbformat_minor": 0,
  "metadata": {
    "colab": {
      "provenance": []
    },
    "kernelspec": {
      "name": "python3",
      "display_name": "Python 3"
    },
    "language_info": {
      "name": "python"
    }
  },
  "cells": [
    {
      "cell_type": "code",
      "execution_count": null,
      "metadata": {
        "id": "t2F2cqL-b-qf"
      },
      "outputs": [],
      "source": [
        "import pandas as pd\n",
        "import random\n",
        "from collections import defaultdict"
      ]
    },
    {
      "cell_type": "markdown",
      "source": [
        "Files Here\n"
      ],
      "metadata": {
        "id": "inCoY0mZckwW"
      }
    },
    {
      "cell_type": "code",
      "source": [
        "\n",
        "all_paths = [\n",
        "    # Add your file paths here or load them however needed\n",
        "    \"enriched_routes_by_timestamp_cap_to_wfg_with_daytime.csv\",\n",
        "    \"enriched_routes_by_timestamp_cg_to_bh_with_daytime.csv\",\n",
        "    \"enriched_routes_by_timestamp_ppm_to_cap_with_daytime.csv\",\n",
        "    \"enriched_routes_by_timestamp_sam_to_ss_with_daytime.csv\",\n",
        "    \"enriched_routes_by_timestamp_sam_to_whs_with_daytime.csv\",\n",
        "    \"enriched_routes_by_timestamp_sn_to_bh_with_daytime.csv\",\n",
        "    \"enriched_routes_by_timestamp_whs_to_if_with_daytime.csv\",\n",
        "    \"enriched_routes_by_timestamp_wp_to_idcts_with_daytime.csv\",\n",
        "    \"enriched_routes_by_timestamp_wp_to_sft_with_daytime.csv\",\n",
        "    \"enriched_routes_by_timestamp_wp_to_tmp_with_daytime.csv\",\n",
        "    \"enriched_routes_by_timestamp_bh_to_cts_with_daytime.csv\",\n",
        "    \"enriched_routes_by_timestamp_cap_to_saq_with_daytime.csv\",\n",
        "    \"enriched_routes_sn_to_wp_with_daytime.csv\",\n",
        "    \"enriched_routes_wp_to_st_with_daytime.csv\"\n",
        "]\n",
        "\n",
        "'''\n",
        "all_paths = [\n",
        "    # Add your file paths here or load them however needed\n",
        "\n",
        "    \"enriched_routes_sn_to_wp_with_daytime.csv\",\n",
        "    \"enriched_routes_wp_to_st_with_daytime.csv\"\n",
        "]\n",
        "'''\n",
        "\n",
        "df = pd.concat([pd.read_csv(path) for path in all_paths], ignore_index=True)"
      ],
      "metadata": {
        "id": "H5-gsUHGchYt"
      },
      "execution_count": null,
      "outputs": []
    },
    {
      "cell_type": "markdown",
      "source": [
        "PREPROCESS DATA"
      ],
      "metadata": {
        "id": "MvAVe9bBcnkH"
      }
    },
    {
      "cell_type": "code",
      "source": [
        "df = df.rename(columns={'day': 'day_of_week'})\n",
        "df['hour_of_day'] = pd.to_datetime(df['time'], errors='coerce').dt.hour\n",
        "df['duration'] = df.apply(lambda row: row['duration_in_traffic'] if row['mode'] == 'driving' else row['duration_seconds'], axis=1)\n",
        "\n",
        "# Pivot data\n",
        "\n",
        "pivot = df.pivot_table(index=['day_of_week', 'hour_of_day'], columns='mode', values='duration', aggfunc='mean').reset_index()\n",
        "pivot = pivot.dropna(subset=['driving', 'transit', 'walking', 'bicycling'])"
      ],
      "metadata": {
        "colab": {
          "base_uri": "https://localhost:8080/"
        },
        "id": "_-quPBcocmwX",
        "outputId": "cacc042a-283f-4366-f904-96d6def30efb"
      },
      "execution_count": null,
      "outputs": [
        {
          "output_type": "stream",
          "name": "stderr",
          "text": [
            "/tmp/ipython-input-72-1664872649.py:2: UserWarning: Could not infer format, so each element will be parsed individually, falling back to `dateutil`. To ensure parsing is consistent and as-expected, please specify a format.\n",
            "  df['hour_of_day'] = pd.to_datetime(df['time'], errors='coerce').dt.hour\n"
          ]
        }
      ]
    },
    {
      "cell_type": "markdown",
      "source": [
        "Q LEARNING SET UP"
      ],
      "metadata": {
        "id": "k7mhVS4fc0kZ"
      }
    },
    {
      "cell_type": "code",
      "source": [
        "Q = defaultdict(lambda: {mode: 0.0 for mode in ['driving', 'transit', 'bicycling', 'walking']})\n",
        "alpha = 0.1      # learning rate\n",
        "gamma = 0.9      # discount factor (not used here)\n",
        "epsilon = 0.1    # exploration rate\n",
        "\n",
        "penalty_weight = {\n",
        "    \"driving\": 0.50,     # Higher penalty to discourage over-selection\n",
        "    \"transit\": 0.05,\n",
        "    \"bicycling\": 0.02,\n",
        "    \"walking\": 0.01\n",
        "}\n",
        "\n",
        "states = list(zip(pivot['day_of_week'], pivot['hour_of_day']))\n",
        "modes = ['driving', 'transit', 'bicycling', 'walking']"
      ],
      "metadata": {
        "id": "Z5BvU0kJc2YZ"
      },
      "execution_count": null,
      "outputs": []
    },
    {
      "cell_type": "markdown",
      "source": [
        "Training Loop\n"
      ],
      "metadata": {
        "id": "_NYNIUZvc5ZR"
      }
    },
    {
      "cell_type": "code",
      "source": [
        "for i in range(len(pivot)):\n",
        "    state = states[i]\n",
        "    row = pivot.iloc[i]\n",
        "\n",
        "    if random.random() < epsilon:\n",
        "        action = random.choice(modes)\n",
        "    else:\n",
        "        action = min(Q[state], key=Q[state].get)\n",
        "\n",
        "    # Apply penalty-adjusted reward\n",
        "    penalized_duration = row[action] * (1 + penalty_weight[action])\n",
        "    reward = -penalized_duration\n",
        "\n",
        "    Q[state][action] += alpha * (reward - Q[state][action])"
      ],
      "metadata": {
        "id": "HLmWr1g-dIsb"
      },
      "execution_count": null,
      "outputs": []
    },
    {
      "cell_type": "markdown",
      "source": [
        "EXTRACT LEARNED POLICY"
      ],
      "metadata": {
        "id": "2v4DGtUrdKMk"
      }
    },
    {
      "cell_type": "code",
      "source": [
        "optimal_policy = {\n",
        "    state: min(Q[state], key=Q[state].get)\n",
        "    for state in Q\n",
        "}\n",
        "\n",
        "policy_df = pd.DataFrame([\n",
        "    {'day_of_week': s[0], 'hour_of_day': s[1], 'best_mode': a}\n",
        "    for s, a in optimal_policy.items()\n",
        "])"
      ],
      "metadata": {
        "id": "SOHa6IK8dNz1"
      },
      "execution_count": null,
      "outputs": []
    },
    {
      "cell_type": "markdown",
      "source": [
        "Display Result"
      ],
      "metadata": {
        "id": "caYpX_rmdPHU"
      }
    },
    {
      "cell_type": "code",
      "source": [
        "policy_df = policy_df.sort_values(by=[\"day_of_week\", \"hour_of_day\"])\n",
        "print(policy_df)\n",
        "\n",
        "policy_df.to_csv(\"learned_route_policy_all_routes_run10.csv\", index=False)\n"
      ],
      "metadata": {
        "colab": {
          "base_uri": "https://localhost:8080/"
        },
        "id": "CghumB6ndQlc",
        "outputId": "14027c26-08c0-4a11-c75f-922d23ef32ef"
      },
      "execution_count": null,
      "outputs": [
        {
          "output_type": "stream",
          "name": "stdout",
          "text": [
            "    day_of_week  hour_of_day  best_mode\n",
            "0     8/10/2025            6    driving\n",
            "1     8/10/2025            7    driving\n",
            "2     8/10/2025            8    driving\n",
            "3     8/10/2025            9    driving\n",
            "4     8/10/2025           10    driving\n",
            "..          ...          ...        ...\n",
            "114    8/9/2025           18    driving\n",
            "115    8/9/2025           19    driving\n",
            "116    8/9/2025           20  bicycling\n",
            "117    8/9/2025           21    driving\n",
            "118    8/9/2025           22    driving\n",
            "\n",
            "[119 rows x 3 columns]\n"
          ]
        }
      ]
    }
  ]
}