{
  "nbformat": 4,
  "nbformat_minor": 0,
  "metadata": {
    "colab": {
      "provenance": []
    },
    "kernelspec": {
      "name": "python3",
      "display_name": "Python 3"
    },
    "language_info": {
      "name": "python"
    }
  },
  "cells": [
    {
      "cell_type": "code",
      "execution_count": null,
      "metadata": {
        "id": "nUEq2droz7Xn"
      },
      "outputs": [],
      "source": [
        "import pandas as pd\n",
        "import numpy as np\n",
        "import glob"
      ]
    },
    {
      "cell_type": "markdown",
      "source": [
        "Load and process the csvs"
      ],
      "metadata": {
        "id": "Cs7IlKGI0ODU"
      }
    },
    {
      "cell_type": "code",
      "source": [
        "csv_paths = glob.glob('./*.csv')\n",
        "df_list = []\n",
        "\n",
        "for path in csv_paths:\n",
        "    df = pd.read_csv(path)\n",
        "    required_cols = {'mode', 'distance_meters', 'duration_seconds', 'duration_in_traffic'}\n",
        "    if required_cols.issubset(df.columns):\n",
        "        df_list.append(df)\n",
        "\n",
        "# === Combine All Valid CSVs ===\n",
        "combined_df = pd.concat(df_list, ignore_index=True)"
      ],
      "metadata": {
        "id": "KBDtWk6U0Puz"
      },
      "execution_count": null,
      "outputs": []
    },
    {
      "cell_type": "markdown",
      "source": [
        "Emission Factors"
      ],
      "metadata": {
        "id": "YZwfqyJX1NBW"
      }
    },
    {
      "cell_type": "code",
      "source": [
        "emission_factors = {\n",
        "    'driving': 0.192,# CHECk\n",
        "    'transit': 0.105,\n",
        "    'bicycling': 0.0,\n",
        "    'walking': 0.0\n",
        "}\n"
      ],
      "metadata": {
        "id": "YoSDxNkl1Qj1"
      },
      "execution_count": null,
      "outputs": []
    },
    {
      "cell_type": "markdown",
      "source": [
        "Compute Final Duration"
      ],
      "metadata": {
        "id": "T_MHUm1p1TkO"
      }
    },
    {
      "cell_type": "code",
      "source": [
        "def compute_final_duration(row):\n",
        "    if row['mode'] == 'driving' and not pd.isna(row['duration_in_traffic']):\n",
        "        return row['duration_in_traffic']\n",
        "    return row['duration_seconds']\n",
        "\n",
        "combined_df['duration_final'] = combined_df.apply(compute_final_duration, axis=1)"
      ],
      "metadata": {
        "id": "7XD8k5XV1VUV"
      },
      "execution_count": null,
      "outputs": []
    },
    {
      "cell_type": "markdown",
      "source": [
        "Compute Emissions"
      ],
      "metadata": {
        "id": "LBPN_A211htX"
      }
    },
    {
      "cell_type": "code",
      "source": [
        "combined_df['emissions'] = combined_df.apply(\n",
        "    lambda row: emission_factors.get(row['mode'], 0) * row['distance_meters'],\n",
        "    axis=1\n",
        ")"
      ],
      "metadata": {
        "id": "Kj8zd8Zt1i_3"
      },
      "execution_count": null,
      "outputs": []
    },
    {
      "cell_type": "markdown",
      "source": [
        "Scoring Function"
      ],
      "metadata": {
        "id": "rVQ0NAk51lX_"
      }
    },
    {
      "cell_type": "code",
      "source": [
        "T_max = 1800\n",
        "E_max = 1000\n",
        "t_weight = 15\n",
        "e_weight = 1\n",
        "alpha, beta = 0.015, 0.015\n",
        "\n",
        "\n",
        "\n",
        "def route_score(t, e, T=T_max, E=E_max, a=t_weight, b=e_weight, alpha=0.04, beta=0.015):\n",
        "    t_ratio = t / T\n",
        "    e_ratio = e / E\n",
        "    penalty_t = alpha * max(0, t - T)\n",
        "    penalty_e = beta * max(0, e - E)\n",
        "    return a * t_ratio + b * e_ratio + penalty_t + penalty_e\n"
      ],
      "metadata": {
        "id": "Ikf33Qtz1naI"
      },
      "execution_count": null,
      "outputs": []
    },
    {
      "cell_type": "markdown",
      "source": [
        "Apply Score"
      ],
      "metadata": {
        "id": "TMEURL6M1p4Y"
      }
    },
    {
      "cell_type": "code",
      "source": [
        "combined_df['score'] = combined_df.apply(\n",
        "    lambda row: route_score(row['duration_final'], row['emissions']),\n",
        "    axis=1\n",
        ")\n"
      ],
      "metadata": {
        "id": "SoM6IbZA1rEZ"
      },
      "execution_count": null,
      "outputs": []
    },
    {
      "cell_type": "markdown",
      "source": [
        "Save Final Output"
      ],
      "metadata": {
        "id": "Dtt9gEBh3i3y"
      }
    },
    {
      "cell_type": "code",
      "source": [
        "combined_df.to_csv(\"enriched_routes_with_score4.csv\", index=False)\n",
        "\n",
        "print(combined_df)\n"
      ],
      "metadata": {
        "colab": {
          "base_uri": "https://localhost:8080/"
        },
        "id": "pCu-oGfk3lCK",
        "outputId": "50e33579-5b2b-4b4a-8b29-a44e22216682"
      },
      "execution_count": null,
      "outputs": [
        {
          "output_type": "stream",
          "name": "stdout",
          "text": [
            "            day   time   timestamp        origin_place  origin_lat  \\\n",
            "0      8/4/2025   6:00  1754312400       Westlake Park   47.610949   \n",
            "1      8/4/2025   6:00  1754312400       Westlake Park   47.610949   \n",
            "2      8/4/2025   6:00  1754312400       Westlake Park   47.610949   \n",
            "3      8/4/2025   6:00  1754312400       Westlake Park   47.610949   \n",
            "4      8/4/2025   7:00  1754316000       Westlake Park   47.610949   \n",
            "...         ...    ...         ...                 ...         ...   \n",
            "6659  8/10/2025  21:00  1754884800  Seattle Art Museum   47.607515   \n",
            "6660  8/10/2025  22:00  1754888400  Seattle Art Museum   47.607515   \n",
            "6661  8/10/2025  22:00  1754888400  Seattle Art Museum   47.607515   \n",
            "6662  8/10/2025  22:00  1754888400  Seattle Art Museum   47.607515   \n",
            "6663  8/10/2025  22:00  1754888400  Seattle Art Museum   47.607515   \n",
            "\n",
            "      origin_lng                                  destination_place  \\\n",
            "0    -122.337021  International District/Chinatown Station - lig...   \n",
            "1    -122.337021  International District/Chinatown Station - lig...   \n",
            "2    -122.337021  International District/Chinatown Station - lig...   \n",
            "3    -122.337021  International District/Chinatown Station - lig...   \n",
            "4    -122.337021  International District/Chinatown Station - lig...   \n",
            "...          ...                                                ...   \n",
            "6659 -122.337960               Stadium Station - light rail station   \n",
            "6660 -122.337960               Stadium Station - light rail station   \n",
            "6661 -122.337960               Stadium Station - light rail station   \n",
            "6662 -122.337960               Stadium Station - light rail station   \n",
            "6663 -122.337960               Stadium Station - light rail station   \n",
            "\n",
            "      destination_lat  destination_lng       mode  distance_meters  \\\n",
            "0           47.598358      -122.328024    driving             2070   \n",
            "1           47.598358      -122.328024    transit             2010   \n",
            "2           47.598358      -122.328024    walking             1687   \n",
            "3           47.598358      -122.328024  bicycling             1742   \n",
            "4           47.598358      -122.328024    driving             2070   \n",
            "...               ...              ...        ...              ...   \n",
            "6659        47.591098      -122.327170  bicycling             2172   \n",
            "6660        47.591098      -122.327170    driving             2322   \n",
            "6661        47.591098      -122.327170    transit             2341   \n",
            "6662        47.591098      -122.327170    walking             2175   \n",
            "6663        47.591098      -122.327170  bicycling             2172   \n",
            "\n",
            "      duration_seconds  duration_in_traffic source  duration_final  emissions  \\\n",
            "0                  482                388.0    api           388.0    397.440   \n",
            "1                  431                  NaN    api           431.0    211.050   \n",
            "2                 1400                  NaN    api          1400.0      0.000   \n",
            "3                  554                  NaN    api           554.0      0.000   \n",
            "4                  482                428.0    api           428.0    397.440   \n",
            "...                ...                  ...    ...             ...        ...   \n",
            "6659               634                  NaN    api           634.0      0.000   \n",
            "6660               477                467.0    api           467.0    445.824   \n",
            "6661               752                  NaN    api           752.0    245.805   \n",
            "6662              1814                  NaN    api          1814.0      0.000   \n",
            "6663               634                  NaN    api           634.0      0.000   \n",
            "\n",
            "          score  \n",
            "0      3.630773  \n",
            "1      3.802717  \n",
            "2     11.666667  \n",
            "3      4.616667  \n",
            "4      3.964107  \n",
            "...         ...  \n",
            "6659   5.283333  \n",
            "6660   4.337491  \n",
            "6661   6.512472  \n",
            "6662  15.676667  \n",
            "6663   5.283333  \n",
            "\n",
            "[6664 rows x 17 columns]\n"
          ]
        }
      ]
    }
  ]
}