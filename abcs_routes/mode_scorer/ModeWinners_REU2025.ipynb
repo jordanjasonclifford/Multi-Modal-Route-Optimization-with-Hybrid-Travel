{
  "nbformat": 4,
  "nbformat_minor": 0,
  "metadata": {
    "colab": {
      "provenance": []
    },
    "kernelspec": {
      "name": "python3",
      "display_name": "Python 3"
    },
    "language_info": {
      "name": "python"
    }
  },
  "cells": [
    {
      "cell_type": "code",
      "execution_count": null,
      "metadata": {
        "colab": {
          "base_uri": "https://localhost:8080/"
        },
        "id": "haE7bRqp-lEy",
        "outputId": "ce6398d7-abae-4329-8754-6ac8dae7fd57"
      },
      "outputs": [
        {
          "output_type": "stream",
          "name": "stdout",
          "text": [
            "Top 4 Mode Winners:\n",
            "mode\n",
            "driving      772\n",
            "bicycling    670\n",
            "transit      224\n",
            "Name: count, dtype: int64\n"
          ]
        }
      ],
      "source": [
        "import pandas as pd\n",
        "\n",
        "# Load the CSV file\n",
        "df = pd.read_csv(\"enriched_routes_with_score4.csv\")  # Replace with your actual path\n",
        "\n",
        "# Define the grouping columns for route, date, and time\n",
        "group_cols = ['day', 'time', 'origin_place', 'destination_place']\n",
        "\n",
        "# Get the rows with the lowest score in each group\n",
        "winners_df = df.loc[df.groupby(group_cols)['score'].idxmin()]\n",
        "\n",
        "# Count the most common winning modes\n",
        "mode_winner_counts = winners_df['mode'].value_counts().head(4)\n",
        "\n",
        "# Print the top 4 modes\n",
        "print(\"Top 4 Mode Winners:\")\n",
        "print(mode_winner_counts)"
      ]
    }
  ]
}