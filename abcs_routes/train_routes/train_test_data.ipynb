{
  "nbformat": 4,
  "nbformat_minor": 0,
  "metadata": {
    "colab": {
      "provenance": []
    },
    "kernelspec": {
      "name": "python3",
      "display_name": "Python 3"
    },
    "language_info": {
      "name": "python"
    }
  },
  "cells": [
    {
      "cell_type": "code",
      "execution_count": 3,
      "metadata": {
        "colab": {
          "base_uri": "https://localhost:8080/",
          "height": 36
        },
        "id": "X8yxi5WnbWnX",
        "outputId": "9aa82e9b-a03f-4f77-c264-505ecbfddb98"
      },
      "outputs": [
        {
          "output_type": "execute_result",
          "data": {
            "text/plain": [
              "'/content/predicted_enriched_routes.csv'"
            ],
            "application/vnd.google.colaboratory.intrinsic+json": {
              "type": "string"
            }
          },
          "metadata": {},
          "execution_count": 3
        }
      ],
      "source": [
        "import pandas as pd\n",
        "import joblib\n",
        "\n",
        "# Paths to files\n",
        "csv_path = \"/content/enriched_routes_train_combined.csv\"\n",
        "model_path = \"/content/travel_time_model.pkl\"\n",
        "columns_path = \"/content/model_columns.pkl\"\n",
        "\n",
        "# Load data and model\n",
        "df = pd.read_csv(csv_path)\n",
        "model = joblib.load(model_path)\n",
        "model_columns = joblib.load(columns_path)\n",
        "\n",
        "# Prepare features\n",
        "df_processed = pd.get_dummies(df)\n",
        "for col in model_columns:\n",
        "    if col not in df_processed.columns:\n",
        "        df_processed[col] = 0\n",
        "df_processed = df_processed[model_columns]\n",
        "\n",
        "# Predict\n",
        "df['predicted_duration'] = model.predict(df_processed)\n",
        "\n",
        "# Save result\n",
        "output_path = \"/content/predicted_enriched_routes.csv\"\n",
        "df.to_csv(output_path, index=False)\n",
        "\n",
        "output_path\n"
      ]
    },
    {
      "cell_type": "code",
      "source": [
        "import pandas as pd\n",
        "\n",
        "# Load the dataset\n",
        "df = pd.read_csv(\"predicted_enriched_routes.csv\")\n",
        "\n",
        "# Compute actual duration based on mode\n",
        "df['actual_duration'] = df.apply(\n",
        "    lambda row: row['duration_in_traffic'] if row['mode'] == 'driving' and not pd.isna(row['duration_in_traffic']) else row['duration_seconds'],\n",
        "    axis=1\n",
        ")\n",
        "\n",
        "# Calculate absolute and relative errors\n",
        "df['abs_error'] = (df['predicted_duration'] - df['actual_duration']).abs()\n",
        "df['rel_error'] = df['abs_error'] / df['actual_duration']\n",
        "\n",
        "# Summary statistics grouped by mode\n",
        "error_summary = df.groupby('mode')[['abs_error', 'rel_error']].mean().reset_index()\n",
        "\n",
        "# Display summary\n",
        "print(\"Error Summary by Mode:\\n\", error_summary)\n",
        "\n",
        "# Optional: Save results to CSV\n",
        "df.to_csv(\"duration_comparison_results.csv\", index=False)\n",
        "error_summary.to_csv(\"error_summary_by_mode.csv\", index=False)\n"
      ],
      "metadata": {
        "id": "j_gbrLtG3ril",
        "outputId": "105c498d-a95c-4aea-bd7c-759ba652ca52",
        "colab": {
          "base_uri": "https://localhost:8080/"
        }
      },
      "execution_count": 4,
      "outputs": [
        {
          "output_type": "stream",
          "name": "stdout",
          "text": [
            "Error Summary by Mode:\n",
            "         mode   abs_error  rel_error\n",
            "0  bicycling  172.630000   0.299441\n",
            "1    driving  126.830387  -0.064971\n",
            "2    transit  118.786437   0.197120\n",
            "3    walking  632.711000   0.417625\n"
          ]
        }
      ]
    }
  ]
}