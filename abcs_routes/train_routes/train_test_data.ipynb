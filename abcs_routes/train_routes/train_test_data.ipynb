{
  "nbformat": 4,
  "nbformat_minor": 0,
  "metadata": {
    "colab": {
      "provenance": []
    },
    "kernelspec": {
      "name": "python3",
      "display_name": "Python 3"
    },
    "language_info": {
      "name": "python"
    }
  },
  "cells": [
    {
      "cell_type": "code",
      "execution_count": 10,
      "metadata": {
        "colab": {
          "base_uri": "https://localhost:8080/",
          "height": 35
        },
        "id": "X8yxi5WnbWnX",
        "outputId": "8c447070-cf9e-4bde-cbc0-d0034fc707b0"
      },
      "outputs": [
        {
          "output_type": "execute_result",
          "data": {
            "text/plain": [
              "'/content/predicted_enriched_routes.csv'"
            ],
            "application/vnd.google.colaboratory.intrinsic+json": {
              "type": "string"
            }
          },
          "metadata": {},
          "execution_count": 10
        }
      ],
      "source": [
        "import pandas as pd\n",
        "import joblib\n",
        "\n",
        "# Paths to files\n",
        "csv_path = \"/content/enriched_routes_train_combined.csv\"\n",
        "model_path = \"/content/travel_time_model.pkl\"\n",
        "columns_path = \"/content/model_columns.pkl\"\n",
        "\n",
        "# Load data and model\n",
        "df = pd.read_csv(csv_path)\n",
        "model = joblib.load(model_path)\n",
        "model_columns = joblib.load(columns_path)\n",
        "\n",
        "# Prepare features\n",
        "df_processed = pd.get_dummies(df)\n",
        "for col in model_columns:\n",
        "    if col not in df_processed.columns:\n",
        "        df_processed[col] = 0\n",
        "df_processed = df_processed[model_columns]\n",
        "\n",
        "# Predict\n",
        "df['predicted_duration'] = model.predict(df_processed)\n",
        "\n",
        "# Save result\n",
        "output_path = \"/content/predicted_enriched_routes.csv\"\n",
        "df.to_csv(output_path, index=False)\n",
        "\n",
        "output_path\n"
      ]
    }
  ]
}